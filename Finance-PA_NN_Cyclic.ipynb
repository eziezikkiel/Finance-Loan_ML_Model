{
 "cells": [
  {
   "cell_type": "markdown",
   "metadata": {},
   "source": [
    "# Predicting Credit Defaulters using Deep Learning"
   ]
  },
  {
   "cell_type": "markdown",
   "metadata": {},
   "source": [
    "## Step 1. Problem Definition\n",
    "> The goal of this project is to develop a predictive model that can accurately classify borrowers as defaulters or non-defaulters based on various financial and demographic factors."
   ]
  },
  {
   "cell_type": "markdown",
   "metadata": {},
   "source": [
    "## Step 2. Loading the necessary libraries"
   ]
  },
  {
   "cell_type": "code",
   "execution_count": 1,
   "metadata": {},
   "outputs": [],
   "source": [
    "import pandas as pd \n",
    "import numpy as np\n",
    "import matplotlib.pyplot as plt \n",
    "import seaborn as sns \n",
    "from scipy.stats import loguniform\n",
    "import scipy.stats as stat \n",
    "import pylab\n",
    "%matplotlib inline"
   ]
  },
  {
   "cell_type": "markdown",
   "metadata": {},
   "source": [
    "## Step 3. Load & prepare the data\n",
    "\n",
    "I have done the EDA and all the feature engineering on the machine learning part. I willjust load the cleaned data and do the other preprocessing"
   ]
  },
  {
   "cell_type": "code",
   "execution_count": 2,
   "metadata": {},
   "outputs": [
    {
     "data": {
      "text/html": [
       "<div>\n",
       "<style scoped>\n",
       "    .dataframe tbody tr th:only-of-type {\n",
       "        vertical-align: middle;\n",
       "    }\n",
       "\n",
       "    .dataframe tbody tr th {\n",
       "        vertical-align: top;\n",
       "    }\n",
       "\n",
       "    .dataframe thead th {\n",
       "        text-align: right;\n",
       "    }\n",
       "</style>\n",
       "<table border=\"1\" class=\"dataframe\">\n",
       "  <thead>\n",
       "    <tr style=\"text-align: right;\">\n",
       "      <th></th>\n",
       "      <th>loan_type</th>\n",
       "      <th>interest_rate</th>\n",
       "      <th>employment_type</th>\n",
       "      <th>income_level</th>\n",
       "      <th>credit_score</th>\n",
       "      <th>gender</th>\n",
       "      <th>marital_status</th>\n",
       "      <th>education_level</th>\n",
       "      <th>default_status</th>\n",
       "      <th>total_amount</th>\n",
       "      <th>...</th>\n",
       "      <th>due_date_month_sin</th>\n",
       "      <th>due_date_month_cos</th>\n",
       "      <th>application_date_day_sin</th>\n",
       "      <th>application_date_day_cos</th>\n",
       "      <th>approval_date_day_sin</th>\n",
       "      <th>approval_date_day_cos</th>\n",
       "      <th>disbursement_date_day_sin</th>\n",
       "      <th>disbursement_date_day_cos</th>\n",
       "      <th>due_date_day_sin</th>\n",
       "      <th>due_date_day_cos</th>\n",
       "    </tr>\n",
       "  </thead>\n",
       "  <tbody>\n",
       "    <tr>\n",
       "      <th>0</th>\n",
       "      <td>Car Loan</td>\n",
       "      <td>0.051852</td>\n",
       "      <td>Self-employed</td>\n",
       "      <td>Medium</td>\n",
       "      <td>833</td>\n",
       "      <td>Male</td>\n",
       "      <td>Single</td>\n",
       "      <td>Master</td>\n",
       "      <td>0</td>\n",
       "      <td>17665.849453</td>\n",
       "      <td>...</td>\n",
       "      <td>-0.866025</td>\n",
       "      <td>-0.5</td>\n",
       "      <td>8.660254e-01</td>\n",
       "      <td>0.5</td>\n",
       "      <td>-0.994522</td>\n",
       "      <td>0.104528</td>\n",
       "      <td>-0.951057</td>\n",
       "      <td>0.309017</td>\n",
       "      <td>0.207912</td>\n",
       "      <td>-0.978148</td>\n",
       "    </tr>\n",
       "    <tr>\n",
       "      <th>1</th>\n",
       "      <td>Personal Loan</td>\n",
       "      <td>0.089296</td>\n",
       "      <td>Full-time</td>\n",
       "      <td>Medium</td>\n",
       "      <td>776</td>\n",
       "      <td>Female</td>\n",
       "      <td>Married</td>\n",
       "      <td>Bachelor</td>\n",
       "      <td>0</td>\n",
       "      <td>2026.089950</td>\n",
       "      <td>...</td>\n",
       "      <td>0.866025</td>\n",
       "      <td>-0.5</td>\n",
       "      <td>-1.133108e-15</td>\n",
       "      <td>1.0</td>\n",
       "      <td>0.207912</td>\n",
       "      <td>0.978148</td>\n",
       "      <td>0.587785</td>\n",
       "      <td>-0.809017</td>\n",
       "      <td>0.866025</td>\n",
       "      <td>0.500000</td>\n",
       "    </tr>\n",
       "    <tr>\n",
       "      <th>2</th>\n",
       "      <td>Personal Loan</td>\n",
       "      <td>0.070470</td>\n",
       "      <td>Full-time</td>\n",
       "      <td>Low</td>\n",
       "      <td>697</td>\n",
       "      <td>Male</td>\n",
       "      <td>Divorced</td>\n",
       "      <td>High School</td>\n",
       "      <td>0</td>\n",
       "      <td>83303.941470</td>\n",
       "      <td>...</td>\n",
       "      <td>0.866025</td>\n",
       "      <td>0.5</td>\n",
       "      <td>5.665539e-16</td>\n",
       "      <td>-1.0</td>\n",
       "      <td>-0.587785</td>\n",
       "      <td>-0.809017</td>\n",
       "      <td>-0.587785</td>\n",
       "      <td>0.809017</td>\n",
       "      <td>-0.951057</td>\n",
       "      <td>0.309017</td>\n",
       "    </tr>\n",
       "  </tbody>\n",
       "</table>\n",
       "<p>3 rows × 31 columns</p>\n",
       "</div>"
      ],
      "text/plain": [
       "       loan_type  interest_rate employment_type income_level  credit_score   \n",
       "0       Car Loan       0.051852   Self-employed       Medium           833  \\\n",
       "1  Personal Loan       0.089296       Full-time       Medium           776   \n",
       "2  Personal Loan       0.070470       Full-time          Low           697   \n",
       "\n",
       "   gender marital_status education_level  default_status  total_amount  ...   \n",
       "0    Male         Single          Master               0  17665.849453  ...  \\\n",
       "1  Female        Married        Bachelor               0   2026.089950  ...   \n",
       "2    Male       Divorced     High School               0  83303.941470  ...   \n",
       "\n",
       "   due_date_month_sin  due_date_month_cos  application_date_day_sin   \n",
       "0           -0.866025                -0.5              8.660254e-01  \\\n",
       "1            0.866025                -0.5             -1.133108e-15   \n",
       "2            0.866025                 0.5              5.665539e-16   \n",
       "\n",
       "   application_date_day_cos  approval_date_day_sin  approval_date_day_cos   \n",
       "0                       0.5              -0.994522               0.104528  \\\n",
       "1                       1.0               0.207912               0.978148   \n",
       "2                      -1.0              -0.587785              -0.809017   \n",
       "\n",
       "   disbursement_date_day_sin  disbursement_date_day_cos  due_date_day_sin   \n",
       "0                  -0.951057                   0.309017          0.207912  \\\n",
       "1                   0.587785                  -0.809017          0.866025   \n",
       "2                  -0.587785                   0.809017         -0.951057   \n",
       "\n",
       "   due_date_day_cos  \n",
       "0         -0.978148  \n",
       "1          0.500000  \n",
       "2          0.309017  \n",
       "\n",
       "[3 rows x 31 columns]"
      ]
     },
     "execution_count": 2,
     "metadata": {},
     "output_type": "execute_result"
    }
   ],
   "source": [
    "# Load it into the df dataframe\n",
    "df = pd.read_csv('data/clean_loan_cyclic.csv')\n",
    "df.head(3)"
   ]
  },
  {
   "cell_type": "markdown",
   "metadata": {},
   "source": [
    "## Step 4. Data Preprocessing\n",
    "\n",
    "Now we need to perform necessary procedures to preprocess our data such as:\n",
    "1. Creating X & y\n",
    "2. Encoding Categorical Features\n",
    "3. Splitting data\n",
    "4. Feature Scaling\n",
    "5. Etc."
   ]
  },
  {
   "cell_type": "markdown",
   "metadata": {},
   "source": [
    "### Create X & y"
   ]
  },
  {
   "cell_type": "code",
   "execution_count": 3,
   "metadata": {},
   "outputs": [],
   "source": [
    "X = df.drop(['default_status'], axis=1)\n",
    "y = df['default_status']"
   ]
  },
  {
   "cell_type": "markdown",
   "metadata": {},
   "source": [
    "### Encode Categorical Features (same process as the version one)"
   ]
  },
  {
   "cell_type": "markdown",
   "metadata": {},
   "source": [
    "Encode gender first and use drop first since it's only binary"
   ]
  },
  {
   "cell_type": "code",
   "execution_count": 4,
   "metadata": {},
   "outputs": [
    {
     "data": {
      "text/html": [
       "<div>\n",
       "<style scoped>\n",
       "    .dataframe tbody tr th:only-of-type {\n",
       "        vertical-align: middle;\n",
       "    }\n",
       "\n",
       "    .dataframe tbody tr th {\n",
       "        vertical-align: top;\n",
       "    }\n",
       "\n",
       "    .dataframe thead th {\n",
       "        text-align: right;\n",
       "    }\n",
       "</style>\n",
       "<table border=\"1\" class=\"dataframe\">\n",
       "  <thead>\n",
       "    <tr style=\"text-align: right;\">\n",
       "      <th></th>\n",
       "      <th>loan_type</th>\n",
       "      <th>interest_rate</th>\n",
       "      <th>employment_type</th>\n",
       "      <th>income_level</th>\n",
       "      <th>credit_score</th>\n",
       "      <th>marital_status</th>\n",
       "      <th>education_level</th>\n",
       "      <th>total_amount</th>\n",
       "      <th>monthly_payment</th>\n",
       "      <th>application_date_year</th>\n",
       "      <th>...</th>\n",
       "      <th>due_date_month_cos</th>\n",
       "      <th>application_date_day_sin</th>\n",
       "      <th>application_date_day_cos</th>\n",
       "      <th>approval_date_day_sin</th>\n",
       "      <th>approval_date_day_cos</th>\n",
       "      <th>disbursement_date_day_sin</th>\n",
       "      <th>disbursement_date_day_cos</th>\n",
       "      <th>due_date_day_sin</th>\n",
       "      <th>due_date_day_cos</th>\n",
       "      <th>gender_Male</th>\n",
       "    </tr>\n",
       "  </thead>\n",
       "  <tbody>\n",
       "    <tr>\n",
       "      <th>0</th>\n",
       "      <td>Car Loan</td>\n",
       "      <td>0.051852</td>\n",
       "      <td>Self-employed</td>\n",
       "      <td>Medium</td>\n",
       "      <td>833</td>\n",
       "      <td>Single</td>\n",
       "      <td>Master</td>\n",
       "      <td>17665.849453</td>\n",
       "      <td>1177.723297</td>\n",
       "      <td>2018</td>\n",
       "      <td>...</td>\n",
       "      <td>-0.5</td>\n",
       "      <td>8.660254e-01</td>\n",
       "      <td>0.5</td>\n",
       "      <td>-0.994522</td>\n",
       "      <td>0.104528</td>\n",
       "      <td>-0.951057</td>\n",
       "      <td>0.309017</td>\n",
       "      <td>0.207912</td>\n",
       "      <td>-0.978148</td>\n",
       "      <td>1</td>\n",
       "    </tr>\n",
       "    <tr>\n",
       "      <th>1</th>\n",
       "      <td>Personal Loan</td>\n",
       "      <td>0.089296</td>\n",
       "      <td>Full-time</td>\n",
       "      <td>Medium</td>\n",
       "      <td>776</td>\n",
       "      <td>Married</td>\n",
       "      <td>Bachelor</td>\n",
       "      <td>2026.089950</td>\n",
       "      <td>36.180178</td>\n",
       "      <td>2022</td>\n",
       "      <td>...</td>\n",
       "      <td>-0.5</td>\n",
       "      <td>-1.133108e-15</td>\n",
       "      <td>1.0</td>\n",
       "      <td>0.207912</td>\n",
       "      <td>0.978148</td>\n",
       "      <td>0.587785</td>\n",
       "      <td>-0.809017</td>\n",
       "      <td>0.866025</td>\n",
       "      <td>0.500000</td>\n",
       "      <td>0</td>\n",
       "    </tr>\n",
       "    <tr>\n",
       "      <th>2</th>\n",
       "      <td>Personal Loan</td>\n",
       "      <td>0.070470</td>\n",
       "      <td>Full-time</td>\n",
       "      <td>Low</td>\n",
       "      <td>697</td>\n",
       "      <td>Divorced</td>\n",
       "      <td>High School</td>\n",
       "      <td>83303.941470</td>\n",
       "      <td>1633.410617</td>\n",
       "      <td>2019</td>\n",
       "      <td>...</td>\n",
       "      <td>0.5</td>\n",
       "      <td>5.665539e-16</td>\n",
       "      <td>-1.0</td>\n",
       "      <td>-0.587785</td>\n",
       "      <td>-0.809017</td>\n",
       "      <td>-0.587785</td>\n",
       "      <td>0.809017</td>\n",
       "      <td>-0.951057</td>\n",
       "      <td>0.309017</td>\n",
       "      <td>1</td>\n",
       "    </tr>\n",
       "  </tbody>\n",
       "</table>\n",
       "<p>3 rows × 30 columns</p>\n",
       "</div>"
      ],
      "text/plain": [
       "       loan_type  interest_rate employment_type income_level  credit_score   \n",
       "0       Car Loan       0.051852   Self-employed       Medium           833  \\\n",
       "1  Personal Loan       0.089296       Full-time       Medium           776   \n",
       "2  Personal Loan       0.070470       Full-time          Low           697   \n",
       "\n",
       "  marital_status education_level  total_amount  monthly_payment   \n",
       "0         Single          Master  17665.849453      1177.723297  \\\n",
       "1        Married        Bachelor   2026.089950        36.180178   \n",
       "2       Divorced     High School  83303.941470      1633.410617   \n",
       "\n",
       "   application_date_year  ...  due_date_month_cos  application_date_day_sin   \n",
       "0                   2018  ...                -0.5              8.660254e-01  \\\n",
       "1                   2022  ...                -0.5             -1.133108e-15   \n",
       "2                   2019  ...                 0.5              5.665539e-16   \n",
       "\n",
       "   application_date_day_cos  approval_date_day_sin  approval_date_day_cos   \n",
       "0                       0.5              -0.994522               0.104528  \\\n",
       "1                       1.0               0.207912               0.978148   \n",
       "2                      -1.0              -0.587785              -0.809017   \n",
       "\n",
       "   disbursement_date_day_sin  disbursement_date_day_cos  due_date_day_sin   \n",
       "0                  -0.951057                   0.309017          0.207912  \\\n",
       "1                   0.587785                  -0.809017          0.866025   \n",
       "2                  -0.587785                   0.809017         -0.951057   \n",
       "\n",
       "   due_date_day_cos  gender_Male  \n",
       "0         -0.978148            1  \n",
       "1          0.500000            0  \n",
       "2          0.309017            1  \n",
       "\n",
       "[3 rows x 30 columns]"
      ]
     },
     "execution_count": 4,
     "metadata": {},
     "output_type": "execute_result"
    }
   ],
   "source": [
    "# Use pandas get dummies\n",
    "X = pd.get_dummies(X, \n",
    "                   columns=['gender'],\n",
    "                   dtype=int,\n",
    "                   drop_first=True)\n",
    "X.head(3)"
   ]
  },
  {
   "cell_type": "markdown",
   "metadata": {},
   "source": [
    "Encode the rest of category"
   ]
  },
  {
   "cell_type": "code",
   "execution_count": 5,
   "metadata": {},
   "outputs": [
    {
     "data": {
      "text/html": [
       "<div>\n",
       "<style scoped>\n",
       "    .dataframe tbody tr th:only-of-type {\n",
       "        vertical-align: middle;\n",
       "    }\n",
       "\n",
       "    .dataframe tbody tr th {\n",
       "        vertical-align: top;\n",
       "    }\n",
       "\n",
       "    .dataframe thead th {\n",
       "        text-align: right;\n",
       "    }\n",
       "</style>\n",
       "<table border=\"1\" class=\"dataframe\">\n",
       "  <thead>\n",
       "    <tr style=\"text-align: right;\">\n",
       "      <th></th>\n",
       "      <th>interest_rate</th>\n",
       "      <th>credit_score</th>\n",
       "      <th>total_amount</th>\n",
       "      <th>monthly_payment</th>\n",
       "      <th>application_date_year</th>\n",
       "      <th>approval_date_year</th>\n",
       "      <th>disbursement_date_year</th>\n",
       "      <th>due_date_year</th>\n",
       "      <th>application_date_month_sin</th>\n",
       "      <th>application_date_month_cos</th>\n",
       "      <th>...</th>\n",
       "      <th>income_level_High</th>\n",
       "      <th>income_level_Low</th>\n",
       "      <th>income_level_Medium</th>\n",
       "      <th>marital_status_Divorced</th>\n",
       "      <th>marital_status_Married</th>\n",
       "      <th>marital_status_Single</th>\n",
       "      <th>education_level_Bachelor</th>\n",
       "      <th>education_level_High School</th>\n",
       "      <th>education_level_Master</th>\n",
       "      <th>education_level_PhD</th>\n",
       "    </tr>\n",
       "  </thead>\n",
       "  <tbody>\n",
       "    <tr>\n",
       "      <th>0</th>\n",
       "      <td>0.051852</td>\n",
       "      <td>833</td>\n",
       "      <td>17665.849453</td>\n",
       "      <td>1177.723297</td>\n",
       "      <td>2018</td>\n",
       "      <td>2018</td>\n",
       "      <td>2018</td>\n",
       "      <td>2018</td>\n",
       "      <td>8.660254e-01</td>\n",
       "      <td>-0.500000</td>\n",
       "      <td>...</td>\n",
       "      <td>0</td>\n",
       "      <td>0</td>\n",
       "      <td>1</td>\n",
       "      <td>0</td>\n",
       "      <td>0</td>\n",
       "      <td>1</td>\n",
       "      <td>0</td>\n",
       "      <td>0</td>\n",
       "      <td>1</td>\n",
       "      <td>0</td>\n",
       "    </tr>\n",
       "    <tr>\n",
       "      <th>1</th>\n",
       "      <td>0.089296</td>\n",
       "      <td>776</td>\n",
       "      <td>2026.089950</td>\n",
       "      <td>36.180178</td>\n",
       "      <td>2022</td>\n",
       "      <td>2022</td>\n",
       "      <td>2023</td>\n",
       "      <td>2023</td>\n",
       "      <td>-2.449294e-16</td>\n",
       "      <td>1.000000</td>\n",
       "      <td>...</td>\n",
       "      <td>0</td>\n",
       "      <td>0</td>\n",
       "      <td>1</td>\n",
       "      <td>0</td>\n",
       "      <td>1</td>\n",
       "      <td>0</td>\n",
       "      <td>1</td>\n",
       "      <td>0</td>\n",
       "      <td>0</td>\n",
       "      <td>0</td>\n",
       "    </tr>\n",
       "    <tr>\n",
       "      <th>2</th>\n",
       "      <td>0.070470</td>\n",
       "      <td>697</td>\n",
       "      <td>83303.941470</td>\n",
       "      <td>1633.410617</td>\n",
       "      <td>2019</td>\n",
       "      <td>2019</td>\n",
       "      <td>2019</td>\n",
       "      <td>2020</td>\n",
       "      <td>-5.000000e-01</td>\n",
       "      <td>0.866025</td>\n",
       "      <td>...</td>\n",
       "      <td>0</td>\n",
       "      <td>1</td>\n",
       "      <td>0</td>\n",
       "      <td>1</td>\n",
       "      <td>0</td>\n",
       "      <td>0</td>\n",
       "      <td>0</td>\n",
       "      <td>1</td>\n",
       "      <td>0</td>\n",
       "      <td>0</td>\n",
       "    </tr>\n",
       "  </tbody>\n",
       "</table>\n",
       "<p>3 rows × 42 columns</p>\n",
       "</div>"
      ],
      "text/plain": [
       "   interest_rate  credit_score  total_amount  monthly_payment   \n",
       "0       0.051852           833  17665.849453      1177.723297  \\\n",
       "1       0.089296           776   2026.089950        36.180178   \n",
       "2       0.070470           697  83303.941470      1633.410617   \n",
       "\n",
       "   application_date_year  approval_date_year  disbursement_date_year   \n",
       "0                   2018                2018                    2018  \\\n",
       "1                   2022                2022                    2023   \n",
       "2                   2019                2019                    2019   \n",
       "\n",
       "   due_date_year  application_date_month_sin  application_date_month_cos  ...   \n",
       "0           2018                8.660254e-01                   -0.500000  ...  \\\n",
       "1           2023               -2.449294e-16                    1.000000  ...   \n",
       "2           2020               -5.000000e-01                    0.866025  ...   \n",
       "\n",
       "   income_level_High  income_level_Low  income_level_Medium   \n",
       "0                  0                 0                    1  \\\n",
       "1                  0                 0                    1   \n",
       "2                  0                 1                    0   \n",
       "\n",
       "   marital_status_Divorced  marital_status_Married  marital_status_Single   \n",
       "0                        0                       0                      1  \\\n",
       "1                        0                       1                      0   \n",
       "2                        1                       0                      0   \n",
       "\n",
       "   education_level_Bachelor  education_level_High School   \n",
       "0                         0                            0  \\\n",
       "1                         1                            0   \n",
       "2                         0                            1   \n",
       "\n",
       "   education_level_Master  education_level_PhD  \n",
       "0                       1                    0  \n",
       "1                       0                    0  \n",
       "2                       0                    0  \n",
       "\n",
       "[3 rows x 42 columns]"
      ]
     },
     "execution_count": 5,
     "metadata": {},
     "output_type": "execute_result"
    }
   ],
   "source": [
    "# Using list comprehension to get all the reamining object type from columns\n",
    "obj_col = [col for col in X.columns if X[col].dtype == 'O']\n",
    "\n",
    "# Using the object columns we pass it to pandas get dummies to get the one hot encode of the columns\n",
    "X = pd.get_dummies(X,\n",
    "                   columns=obj_col,\n",
    "                   dtype=int)\n",
    "X.head(3)"
   ]
  },
  {
   "cell_type": "markdown",
   "metadata": {},
   "source": [
    "### Split into train, validation and test set"
   ]
  },
  {
   "cell_type": "code",
   "execution_count": 6,
   "metadata": {},
   "outputs": [],
   "source": [
    "# Import the library\n",
    "from sklearn.model_selection import train_test_split\n",
    "\n",
    "# Split first into train and temporary set called temp\n",
    "X_train, X_temp, y_train, y_temp = train_test_split(X, y, test_size=0.3, random_state=42)\n",
    "\n",
    "# Now split temp into validation and test set\n",
    "X_val, X_test, y_val, y_test = train_test_split(X_temp, y_temp, test_size=0.5, random_state=42)"
   ]
  },
  {
   "cell_type": "markdown",
   "metadata": {},
   "source": [
    "### Scale all numeric using StandardScaler"
   ]
  },
  {
   "cell_type": "code",
   "execution_count": 7,
   "metadata": {},
   "outputs": [],
   "source": [
    "# Get all the columns that has continous value and put it onto a list\n",
    "feat_col = ['interest_rate', 'credit_score', 'total_amount', 'monthly_payment',\n",
    "            'application_date_year', 'approval_date_year', 'disbursement_date_year', 'due_date_year']\n",
    "\n",
    "# Import StandardScaler\n",
    "from sklearn.preprocessing import StandardScaler\n",
    "\n",
    "# Instantiate StandardScaler\n",
    "sc = StandardScaler()\n",
    "\n",
    "# Feature scale the train and test set\n",
    "X_train[feat_col] = sc.fit_transform(X_train[feat_col])\n",
    "X_test[feat_col] = sc.transform(X_test[feat_col])\n",
    "X_val[feat_col] = sc.transform(X_val[feat_col])"
   ]
  },
  {
   "cell_type": "markdown",
   "metadata": {},
   "source": [
    "## Step 5. Predicition using Artificial Neural Network"
   ]
  },
  {
   "cell_type": "markdown",
   "metadata": {},
   "source": [
    "Make a function that will score the model"
   ]
  },
  {
   "cell_type": "code",
   "execution_count": 8,
   "metadata": {},
   "outputs": [],
   "source": [
    "# Import library for accuracy score\n",
    "from sklearn.metrics import accuracy_score\n",
    "\n",
    "# Create a fucntion that will take 3 inputs, y_true value, y_predicted, and the dictionary name\n",
    "def evaluate_model(y_true, y_predictions, model_name, score_dictionary):\n",
    "    model_score = accuracy_score(y_true, y_predictions)\n",
    "    score_dictionary[model_name] = model_score * 100\n",
    " \n",
    "    return score_dictionary"
   ]
  },
  {
   "cell_type": "code",
   "execution_count": 9,
   "metadata": {},
   "outputs": [],
   "source": [
    "# Create a dictionary for the baseline models\n",
    "baseline_scores = {}"
   ]
  },
  {
   "cell_type": "markdown",
   "metadata": {},
   "source": [
    "### Perform SMOTE\n",
    "\n",
    "This is different from the version one where we get the scores from the original train set then perform SMOTE. \n",
    "\n",
    "We will directly perform SMOTE."
   ]
  },
  {
   "cell_type": "code",
   "execution_count": 10,
   "metadata": {},
   "outputs": [],
   "source": [
    "# Import SMOTE from imblean\n",
    "from imblearn.over_sampling import SMOTE\n",
    "\n",
    "# Instantite SMOTE\n",
    "smote = SMOTE()\n",
    "\n",
    "# Resample train set\n",
    "X_smote, y_smote = smote.fit_resample(X_train, y_train)"
   ]
  },
  {
   "cell_type": "markdown",
   "metadata": {},
   "source": [
    "### Create Neural Network Architecture"
   ]
  },
  {
   "cell_type": "code",
   "execution_count": 11,
   "metadata": {},
   "outputs": [],
   "source": [
    "# Impoer libraries\n",
    "import tensorflow as tf\n",
    "from tensorflow.keras.models import Sequential\n",
    "from tensorflow.keras.callbacks import EarlyStopping\n",
    "from tensorflow.keras.layers import LeakyReLU, Dense, Dropout, BatchNormalization\n",
    "from tensorflow.keras.metrics import Recall\n",
    "from sklearn.metrics import accuracy_score"
   ]
  },
  {
   "cell_type": "markdown",
   "metadata": {},
   "source": [
    "Create a function that will make the model stop when it reach validation recall of 0.80"
   ]
  },
  {
   "cell_type": "code",
   "execution_count": 12,
   "metadata": {},
   "outputs": [],
   "source": [
    "# Define a custom callback\n",
    "class CustomCallback(tf.keras.callbacks.Callback):\n",
    "    def on_epoch_end(self, epoch, logs={}):\n",
    "        # Check the recall value for the validation dataset\n",
    "        val_recall = logs.get('val_recall')  # Make sure you log 'val_recall' during training\n",
    "        \n",
    "        # Define the desired recall threshold\n",
    "        desired_recall = 0.80\n",
    "        \n",
    "        # Check if the desired recall threshold is reached\n",
    "        if val_recall is not None and val_recall >= desired_recall:\n",
    "            print(f\"\\nDesired recall ({desired_recall}) reached. Stopping training.\")\n",
    "            self.model.stop_training = True\n",
    "\n",
    "# Instantiate the class function\n",
    "custom_callback = CustomCallback()"
   ]
  },
  {
   "cell_type": "code",
   "execution_count": 42,
   "metadata": {},
   "outputs": [],
   "source": [
    "# Need to clear session before retrain model\n",
    "tf.keras.backend.clear_session()"
   ]
  },
  {
   "cell_type": "markdown",
   "metadata": {},
   "source": [
    "Create layes for neural network, leakyrelu, dropout, and batch normalization were used to the model."
   ]
  },
  {
   "cell_type": "code",
   "execution_count": 43,
   "metadata": {},
   "outputs": [],
   "source": [
    "# Create the main brain of the neural network\n",
    "model = Sequential()\n",
    "\n",
    "# Add the first layer\n",
    "model.add(Dense(8, activation='relu'))\n",
    "model.add(Dropout(0.2))\n",
    "\n",
    "# Add the hidden layers\n",
    "model.add(Dense(512))\n",
    "model.add(LeakyReLU(alpha=0.2))\n",
    "model.add(Dropout(0.3))\n",
    "model.add(BatchNormalization())\n",
    "\n",
    "model.add(Dense(256))\n",
    "model.add(LeakyReLU(alpha=0.2))\n",
    "model.add(Dropout(0.3))\n",
    "model.add(BatchNormalization())\n",
    "\n",
    "model.add(Dense(128))\n",
    "model.add(LeakyReLU(alpha=0.2))\n",
    "model.add(Dropout(0.3))\n",
    "model.add(BatchNormalization())\n",
    "\n",
    "model.add(Dense(64))\n",
    "model.add(LeakyReLU(alpha=0.2))\n",
    "model.add(Dropout(0.4))\n",
    "model.add(BatchNormalization())\n",
    "\n",
    "model.add(Dense(32))\n",
    "model.add(LeakyReLU(alpha=0.3))\n",
    "model.add(Dropout(0.4))\n",
    "model.add(BatchNormalization())\n",
    "\n",
    "# Add the output layer with sigmoid activation for classification\n",
    "model.add(Dense(1, activation='sigmoid'))"
   ]
  },
  {
   "cell_type": "code",
   "execution_count": 44,
   "metadata": {},
   "outputs": [],
   "source": [
    "# Compile the model, we will monitor its accuracy and recall\n",
    "model.compile(optimizer='adamax', loss='binary_crossentropy', metrics=['accuracy', Recall()])"
   ]
  },
  {
   "cell_type": "code",
   "execution_count": 45,
   "metadata": {},
   "outputs": [
    {
     "name": "stdout",
     "output_type": "stream",
     "text": [
      "Epoch 1/500\n",
      "176/176 [==============================] - 5s 9ms/step - loss: 0.8650 - accuracy: 0.5071 - recall: 0.4986 - val_loss: 0.6914 - val_accuracy: 0.5360 - val_recall: 0.5511\n",
      "Epoch 2/500\n",
      "176/176 [==============================] - 1s 7ms/step - loss: 0.8084 - accuracy: 0.5082 - recall: 0.5093 - val_loss: 0.6864 - val_accuracy: 0.5973 - val_recall: 0.4432\n",
      "Epoch 3/500\n",
      "176/176 [==============================] - 1s 8ms/step - loss: 0.7801 - accuracy: 0.5194 - recall: 0.5093 - val_loss: 0.6803 - val_accuracy: 0.6267 - val_recall: 0.4432\n",
      "Epoch 4/500\n",
      "176/176 [==============================] - 1s 8ms/step - loss: 0.7579 - accuracy: 0.5166 - recall: 0.5100 - val_loss: 0.6912 - val_accuracy: 0.5933 - val_recall: 0.4886\n",
      "Epoch 5/500\n",
      "176/176 [==============================] - 1s 7ms/step - loss: 0.7317 - accuracy: 0.5257 - recall: 0.5218 - val_loss: 0.6897 - val_accuracy: 0.5880 - val_recall: 0.4545\n",
      "Epoch 6/500\n",
      "176/176 [==============================] - 2s 9ms/step - loss: 0.7373 - accuracy: 0.5203 - recall: 0.5075 - val_loss: 0.6895 - val_accuracy: 0.5853 - val_recall: 0.4545\n",
      "Epoch 7/500\n",
      "176/176 [==============================] - 1s 8ms/step - loss: 0.7281 - accuracy: 0.5153 - recall: 0.5114 - val_loss: 0.6883 - val_accuracy: 0.5853 - val_recall: 0.4432\n",
      "Epoch 8/500\n",
      "176/176 [==============================] - 1s 8ms/step - loss: 0.7208 - accuracy: 0.5221 - recall: 0.5143 - val_loss: 0.6873 - val_accuracy: 0.6027 - val_recall: 0.4659\n",
      "Epoch 9/500\n",
      "176/176 [==============================] - 1s 8ms/step - loss: 0.7140 - accuracy: 0.5267 - recall: 0.5257 - val_loss: 0.6864 - val_accuracy: 0.6053 - val_recall: 0.4375\n",
      "Epoch 10/500\n",
      "176/176 [==============================] - 2s 10ms/step - loss: 0.7075 - accuracy: 0.5282 - recall: 0.5243 - val_loss: 0.6819 - val_accuracy: 0.6147 - val_recall: 0.4205\n",
      "Epoch 11/500\n",
      "176/176 [==============================] - 1s 8ms/step - loss: 0.6964 - accuracy: 0.5405 - recall: 0.5221 - val_loss: 0.6836 - val_accuracy: 0.6120 - val_recall: 0.4432\n",
      "Epoch 12/500\n",
      "176/176 [==============================] - 1s 7ms/step - loss: 0.6932 - accuracy: 0.5412 - recall: 0.5521 - val_loss: 0.6836 - val_accuracy: 0.5880 - val_recall: 0.4830\n",
      "Epoch 13/500\n",
      "176/176 [==============================] - 1s 7ms/step - loss: 0.6964 - accuracy: 0.5489 - recall: 0.5646 - val_loss: 0.6869 - val_accuracy: 0.5813 - val_recall: 0.4830\n",
      "Epoch 14/500\n",
      "176/176 [==============================] - 1s 7ms/step - loss: 0.6841 - accuracy: 0.5551 - recall: 0.5752 - val_loss: 0.6835 - val_accuracy: 0.5947 - val_recall: 0.4830\n",
      "Epoch 15/500\n",
      "176/176 [==============================] - 1s 7ms/step - loss: 0.6747 - accuracy: 0.5827 - recall: 0.5849 - val_loss: 0.6882 - val_accuracy: 0.5800 - val_recall: 0.5170\n",
      "Epoch 16/500\n",
      "176/176 [==============================] - 1s 8ms/step - loss: 0.6773 - accuracy: 0.5756 - recall: 0.5770 - val_loss: 0.6862 - val_accuracy: 0.5947 - val_recall: 0.4602\n",
      "Epoch 17/500\n",
      "176/176 [==============================] - 1s 7ms/step - loss: 0.6683 - accuracy: 0.5908 - recall: 0.6180 - val_loss: 0.6900 - val_accuracy: 0.5453 - val_recall: 0.5170\n",
      "Epoch 18/500\n",
      "176/176 [==============================] - 1s 8ms/step - loss: 0.6670 - accuracy: 0.5849 - recall: 0.5874 - val_loss: 0.6863 - val_accuracy: 0.5987 - val_recall: 0.4602\n",
      "Epoch 19/500\n",
      "176/176 [==============================] - 1s 7ms/step - loss: 0.6546 - accuracy: 0.6106 - recall: 0.6138 - val_loss: 0.6857 - val_accuracy: 0.5667 - val_recall: 0.4602\n",
      "Epoch 20/500\n",
      "176/176 [==============================] - 1s 8ms/step - loss: 0.6496 - accuracy: 0.6161 - recall: 0.6177 - val_loss: 0.6788 - val_accuracy: 0.5840 - val_recall: 0.4716\n",
      "Epoch 21/500\n",
      "176/176 [==============================] - 1s 7ms/step - loss: 0.6379 - accuracy: 0.6273 - recall: 0.6166 - val_loss: 0.6765 - val_accuracy: 0.5893 - val_recall: 0.4375\n",
      "Epoch 22/500\n",
      "176/176 [==============================] - 1s 7ms/step - loss: 0.6280 - accuracy: 0.6500 - recall: 0.6591 - val_loss: 0.6766 - val_accuracy: 0.5827 - val_recall: 0.4375\n",
      "Epoch 23/500\n",
      "176/176 [==============================] - 1s 7ms/step - loss: 0.6268 - accuracy: 0.6473 - recall: 0.6320 - val_loss: 0.6769 - val_accuracy: 0.6040 - val_recall: 0.4034\n",
      "Epoch 24/500\n",
      "176/176 [==============================] - 1s 8ms/step - loss: 0.6172 - accuracy: 0.6692 - recall: 0.6416 - val_loss: 0.6667 - val_accuracy: 0.6387 - val_recall: 0.3466\n",
      "Epoch 25/500\n",
      "176/176 [==============================] - 1s 7ms/step - loss: 0.6017 - accuracy: 0.6746 - recall: 0.6419 - val_loss: 0.6701 - val_accuracy: 0.6080 - val_recall: 0.3693\n",
      "Epoch 26/500\n",
      "176/176 [==============================] - 1s 8ms/step - loss: 0.5872 - accuracy: 0.6913 - recall: 0.6516 - val_loss: 0.6602 - val_accuracy: 0.6507 - val_recall: 0.3295\n",
      "Epoch 27/500\n",
      "176/176 [==============================] - 1s 7ms/step - loss: 0.5824 - accuracy: 0.7002 - recall: 0.6562 - val_loss: 0.6702 - val_accuracy: 0.6413 - val_recall: 0.3750\n",
      "Epoch 28/500\n",
      "176/176 [==============================] - 1s 7ms/step - loss: 0.5733 - accuracy: 0.7109 - recall: 0.6612 - val_loss: 0.6562 - val_accuracy: 0.6387 - val_recall: 0.3239\n",
      "Epoch 29/500\n",
      "176/176 [==============================] - 1s 7ms/step - loss: 0.5684 - accuracy: 0.7161 - recall: 0.6673 - val_loss: 0.6737 - val_accuracy: 0.6053 - val_recall: 0.3466\n",
      "Epoch 30/500\n",
      "176/176 [==============================] - 1s 7ms/step - loss: 0.5516 - accuracy: 0.7224 - recall: 0.6558 - val_loss: 0.6729 - val_accuracy: 0.6080 - val_recall: 0.3239\n",
      "Epoch 31/500\n",
      "176/176 [==============================] - 1s 8ms/step - loss: 0.5443 - accuracy: 0.7370 - recall: 0.6787 - val_loss: 0.6725 - val_accuracy: 0.6147 - val_recall: 0.3239\n",
      "Epoch 32/500\n",
      "176/176 [==============================] - 1s 8ms/step - loss: 0.5311 - accuracy: 0.7430 - recall: 0.6758 - val_loss: 0.6650 - val_accuracy: 0.6280 - val_recall: 0.3011\n",
      "Epoch 33/500\n",
      "176/176 [==============================] - 1s 7ms/step - loss: 0.5221 - accuracy: 0.7545 - recall: 0.6894 - val_loss: 0.6884 - val_accuracy: 0.6053 - val_recall: 0.3409\n",
      "Epoch 34/500\n",
      "176/176 [==============================] - 1s 7ms/step - loss: 0.5021 - accuracy: 0.7675 - recall: 0.6887 - val_loss: 0.7166 - val_accuracy: 0.5760 - val_recall: 0.3636\n",
      "Epoch 35/500\n",
      "176/176 [==============================] - 1s 7ms/step - loss: 0.4956 - accuracy: 0.7719 - recall: 0.6904 - val_loss: 0.6975 - val_accuracy: 0.5933 - val_recall: 0.3182\n",
      "Epoch 36/500\n",
      "176/176 [==============================] - 1s 7ms/step - loss: 0.4834 - accuracy: 0.7764 - recall: 0.6922 - val_loss: 0.7288 - val_accuracy: 0.5707 - val_recall: 0.3466\n",
      "Epoch 37/500\n",
      "176/176 [==============================] - 1s 7ms/step - loss: 0.4676 - accuracy: 0.7901 - recall: 0.7022 - val_loss: 0.8035 - val_accuracy: 0.5307 - val_recall: 0.4034\n",
      "Epoch 38/500\n",
      "176/176 [==============================] - 1s 8ms/step - loss: 0.4721 - accuracy: 0.7923 - recall: 0.7058 - val_loss: 0.7997 - val_accuracy: 0.5413 - val_recall: 0.3864\n",
      "Epoch 39/500\n",
      "176/176 [==============================] - 1s 7ms/step - loss: 0.4592 - accuracy: 0.7896 - recall: 0.6961 - val_loss: 0.9388 - val_accuracy: 0.4800 - val_recall: 0.5284\n",
      "Epoch 40/500\n",
      "176/176 [==============================] - 1s 7ms/step - loss: 0.4517 - accuracy: 0.7962 - recall: 0.6915 - val_loss: 0.9460 - val_accuracy: 0.4693 - val_recall: 0.5284\n",
      "Epoch 41/500\n",
      "176/176 [==============================] - 1s 7ms/step - loss: 0.4331 - accuracy: 0.8126 - recall: 0.7115 - val_loss: 0.9964 - val_accuracy: 0.4653 - val_recall: 0.5284\n",
      "Epoch 42/500\n",
      "176/176 [==============================] - 1s 7ms/step - loss: 0.4384 - accuracy: 0.8053 - recall: 0.6983 - val_loss: 0.9945 - val_accuracy: 0.4747 - val_recall: 0.5000\n",
      "Epoch 43/500\n",
      "176/176 [==============================] - 1s 8ms/step - loss: 0.4280 - accuracy: 0.8128 - recall: 0.7033 - val_loss: 1.0718 - val_accuracy: 0.4333 - val_recall: 0.5909\n",
      "Epoch 44/500\n",
      "176/176 [==============================] - 1s 8ms/step - loss: 0.4191 - accuracy: 0.8203 - recall: 0.7072 - val_loss: 0.8683 - val_accuracy: 0.5200 - val_recall: 0.3636\n",
      "Epoch 45/500\n",
      "176/176 [==============================] - 1s 7ms/step - loss: 0.4130 - accuracy: 0.8190 - recall: 0.7022 - val_loss: 1.1350 - val_accuracy: 0.4227 - val_recall: 0.6136\n",
      "Epoch 46/500\n",
      "176/176 [==============================] - 1s 7ms/step - loss: 0.4221 - accuracy: 0.8167 - recall: 0.6947 - val_loss: 1.2574 - val_accuracy: 0.3813 - val_recall: 0.7045\n",
      "Epoch 47/500\n",
      "176/176 [==============================] - 1s 7ms/step - loss: 0.4106 - accuracy: 0.8244 - recall: 0.7086 - val_loss: 1.2492 - val_accuracy: 0.3827 - val_recall: 0.7159\n",
      "Epoch 48/500\n",
      "176/176 [==============================] - 1s 8ms/step - loss: 0.4020 - accuracy: 0.8294 - recall: 0.7101 - val_loss: 1.1693 - val_accuracy: 0.4053 - val_recall: 0.6477\n",
      "Epoch 49/500\n",
      "176/176 [==============================] - 1s 7ms/step - loss: 0.3989 - accuracy: 0.8306 - recall: 0.7126 - val_loss: 1.3944 - val_accuracy: 0.3493 - val_recall: 0.7670\n",
      "Epoch 50/500\n",
      "176/176 [==============================] - 1s 7ms/step - loss: 0.3987 - accuracy: 0.8302 - recall: 0.7143 - val_loss: 1.3414 - val_accuracy: 0.3653 - val_recall: 0.7386\n",
      "Epoch 51/500\n",
      "172/176 [============================>.] - ETA: 0s - loss: 0.3988 - accuracy: 0.8307 - recall: 0.7152\n",
      "Desired recall (0.8) reached. Stopping training.\n",
      "176/176 [==============================] - 1s 7ms/step - loss: 0.4014 - accuracy: 0.8294 - recall: 0.7143 - val_loss: 1.8209 - val_accuracy: 0.2760 - val_recall: 0.9148\n"
     ]
    },
    {
     "data": {
      "text/plain": [
       "<keras.src.callbacks.History at 0x2c4cac9e110>"
      ]
     },
     "execution_count": 45,
     "metadata": {},
     "output_type": "execute_result"
    }
   ],
   "source": [
    "# Train the model using our custom callback with validation set as the validation data\n",
    "model.fit(x=X_smote, y=y_smote, batch_size=32, epochs=500, validation_data=(X_val,y_val),callbacks=[custom_callback])\n"
   ]
  },
  {
   "cell_type": "markdown",
   "metadata": {},
   "source": [
    "### Plot the validation recall and validation accuracy"
   ]
  },
  {
   "cell_type": "code",
   "execution_count": 49,
   "metadata": {},
   "outputs": [
    {
     "data": {
      "image/png": "[encoded data removed]",
      "text/plain": [
       "<Figure size 1000x600 with 1 Axes>"
      ]
     },
     "metadata": {},
     "output_type": "display_data"
    }
   ],
   "source": [
    "# Get the data of accuracy and recall from histoty.history\n",
    "val_accuracy = model.history.history['val_accuracy']\n",
    "val_recall = model.history.history['val_recall']\n",
    "\n",
    "# Create a plot\n",
    "plt.figure(figsize=(10, 6))\n",
    "\n",
    "# Plot validation accuracy\n",
    "plt.plot(val_accuracy, label='Validation Accuracy', color='teal')\n",
    "\n",
    "# Plot validation recall\n",
    "plt.plot(val_recall, label='Validation Recall', color='salmon')\n",
    "\n",
    "# Set plot labels and title\n",
    "plt.xlabel('Epoch')\n",
    "plt.ylabel('Value')\n",
    "plt.title('Validation Accuracy and Recall Over Epochs')\n",
    "plt.legend()\n",
    "# plt.grid()\n",
    "\n",
    "# Show the plot\n",
    "plt.show()"
   ]
  },
  {
   "cell_type": "code",
   "execution_count": 51,
   "metadata": {},
   "outputs": [
    {
     "data": {
      "image/png": "[encoded data removed]",
      "text/plain": [
       "<Figure size 1000x600 with 1 Axes>"
      ]
     },
     "metadata": {},
     "output_type": "display_data"
    }
   ],
   "source": [
    "import numpy as np\n",
    "from scipy.interpolate import make_interp_spline\n",
    "\n",
    "# Get the data of accuracy and recall from history.history\n",
    "val_accuracy = model.history.history['val_accuracy']\n",
    "val_recall = model.history.history['val_recall']\n",
    "\n",
    "# Create a plot\n",
    "plt.figure(figsize=(10, 6))\n",
    "\n",
    "# Smooth the data using cubic spline interpolation\n",
    "x_new = np.linspace(0, len(val_accuracy) - 1, 300)  # Generate more points for a smoother curve\n",
    "spl_accuracy = make_interp_spline(np.arange(len(val_accuracy)), val_accuracy, k=3)\n",
    "spl_recall = make_interp_spline(np.arange(len(val_recall)), val_recall, k=3)\n",
    "\n",
    "# Plot smoothed validation accuracy\n",
    "plt.plot(x_new, spl_accuracy(x_new), label='Smoothed Validation Accuracy', color='teal')\n",
    "\n",
    "# Plot smoothed validation recall\n",
    "plt.plot(x_new, spl_recall(x_new), label='Smoothed Validation Recall', color='salmon')\n",
    "\n",
    "# Set plot labels and title\n",
    "plt.xlabel('Epoch')\n",
    "plt.ylabel('Value')\n",
    "plt.title('Smoothed Validation Accuracy and Recall Over Epochs')\n",
    "plt.legend()\n",
    "# plt.grid()\n",
    "\n",
    "# Show the plot\n",
    "plt.show()"
   ]
  },
  {
   "cell_type": "markdown",
   "metadata": {},
   "source": [
    "We can observed at trade off betweena accuracy and recall, this means that as our recall goes high, our accuracy is getting low and vice versa\n",
    "\n",
    "### Predict from the model"
   ]
  },
  {
   "cell_type": "code",
   "execution_count": 38,
   "metadata": {},
   "outputs": [
    {
     "name": "stdout",
     "output_type": "stream",
     "text": [
      "24/24 [==============================] - 0s 2ms/step\n"
     ]
    }
   ],
   "source": [
    "y_preds = model.predict(X_test)\n",
    "y_preds = (y_preds > 0.5).astype(int)"
   ]
  },
  {
   "cell_type": "markdown",
   "metadata": {},
   "source": [
    "### Investigate other metrics"
   ]
  },
  {
   "cell_type": "code",
   "execution_count": 39,
   "metadata": {},
   "outputs": [
    {
     "data": {
      "text/plain": [
       "(0.8031496062992126,\n",
       " 0.26266666666666666,\n",
       " 0.1619047619047619,\n",
       " 0.2694848084544254)"
      ]
     },
     "execution_count": 39,
     "metadata": {},
     "output_type": "execute_result"
    }
   ],
   "source": [
    "from sklearn.metrics import recall_score as rs, accuracy_score as asc, precision_score as ps, f1_score as f1\n",
    "rs(y_test, y_preds), asc(y_test, y_preds), ps(y_test, y_preds), f1(y_test, y_preds)"
   ]
  },
  {
   "cell_type": "markdown",
   "metadata": {},
   "source": [
    "### Confusion Matrix"
   ]
  },
  {
   "cell_type": "code",
   "execution_count": 40,
   "metadata": {},
   "outputs": [
    {
     "data": {
      "image/png": "[encoded data removed]",
      "text/plain": [
       "<Figure size 640x480 with 2 Axes>"
      ]
     },
     "metadata": {},
     "output_type": "display_data"
    }
   ],
   "source": [
    "from sklearn.metrics import ConfusionMatrixDisplay\n",
    "from sklearn.metrics import confusion_matrix\n",
    "sns.set(font_scale=1)\n",
    "sns.set_style('white')\n",
    "cm = confusion_matrix(y_test, y_preds)\n",
    "disp = ConfusionMatrixDisplay(confusion_matrix=cm)\n",
    "disp.plot(cmap='cividis')\n",
    "plt.title('Artificial Neural Networks Confusion Matrix', fontweight='bold', fontsize=14)\n",
    "plt.tight_layout()\n",
    "plt.show()"
   ]
  },
  {
   "cell_type": "code",
   "execution_count": null,
   "metadata": {},
   "outputs": [],
   "source": []
  }
 ],
 "metadata": {
  "kernelspec": {
   "display_name": "Python 3",
   "language": "python",
   "name": "python3"
  },
  "language_info": {
   "codemirror_mode": {
    "name": "ipython",
    "version": 3
   },
   "file_extension": ".py",
   "mimetype": "text/x-python",
   "name": "python",
   "nbconvert_exporter": "python",
   "pygments_lexer": "ipython3",
   "version": "3.11.4"
  },
  "orig_nbformat": 4
 },
 "nbformat": 4,
 "nbformat_minor": 2
}
